{
 "cells": [
  {
   "cell_type": "code",
   "execution_count": 2,
   "metadata": {},
   "outputs": [],
   "source": [
    "import cv2"
   ]
  },
  {
   "cell_type": "code",
   "execution_count": 3,
   "metadata": {},
   "outputs": [],
   "source": [
    "import numpy\n",
    "import math"
   ]
  },
  {
   "cell_type": "code",
   "execution_count": 5,
   "metadata": {},
   "outputs": [],
   "source": [
    "cn=numpy.ones((720,720,3))"
   ]
  },
  {
   "cell_type": "code",
   "execution_count": 6,
   "metadata": {},
   "outputs": [
    {
     "ename": "IndexError",
     "evalue": "list index out of range",
     "output_type": "error",
     "traceback": [
      "\u001b[1;31m---------------------------------------------------------------------------\u001b[0m",
      "\u001b[1;31mIndexError\u001b[0m                                Traceback (most recent call last)",
      "\u001b[1;32m<ipython-input-6-6d7ae0e126ac>\u001b[0m in \u001b[0;36m<module>\u001b[1;34m\u001b[0m\n\u001b[0;32m     14\u001b[0m     \u001b[0mv\u001b[0m\u001b[1;33m.\u001b[0m\u001b[0mappend\u001b[0m\u001b[1;33m(\u001b[0m\u001b[1;33m[\u001b[0m\u001b[0mint\u001b[0m\u001b[1;33m(\u001b[0m\u001b[0my1\u001b[0m\u001b[1;33m)\u001b[0m\u001b[1;33m+\u001b[0m\u001b[1;36m360\u001b[0m\u001b[1;33m,\u001b[0m\u001b[0mint\u001b[0m\u001b[1;33m(\u001b[0m\u001b[0mx1\u001b[0m\u001b[1;33m)\u001b[0m\u001b[1;33m+\u001b[0m\u001b[1;36m360\u001b[0m\u001b[1;33m]\u001b[0m\u001b[1;33m)\u001b[0m\u001b[1;33m\u001b[0m\u001b[1;33m\u001b[0m\u001b[0m\n\u001b[0;32m     15\u001b[0m \u001b[1;33m\u001b[0m\u001b[0m\n\u001b[1;32m---> 16\u001b[1;33m     \u001b[0mt1\u001b[0m\u001b[1;33m=\u001b[0m\u001b[0mnumpy\u001b[0m\u001b[1;33m.\u001b[0m\u001b[0marray\u001b[0m\u001b[1;33m(\u001b[0m\u001b[1;33m[\u001b[0m\u001b[0mv\u001b[0m\u001b[1;33m[\u001b[0m\u001b[1;36m2\u001b[0m\u001b[1;33m]\u001b[0m\u001b[1;33m,\u001b[0m\u001b[0mv\u001b[0m\u001b[1;33m[\u001b[0m\u001b[1;36m0\u001b[0m\u001b[1;33m]\u001b[0m\u001b[1;33m,\u001b[0m\u001b[0mvi\u001b[0m\u001b[1;33m[\u001b[0m\u001b[1;36m3\u001b[0m\u001b[1;33m]\u001b[0m\u001b[1;33m]\u001b[0m\u001b[1;33m)\u001b[0m\u001b[1;33m\u001b[0m\u001b[1;33m\u001b[0m\u001b[0m\n\u001b[0m\u001b[0;32m     17\u001b[0m     \u001b[0mt2\u001b[0m\u001b[1;33m=\u001b[0m\u001b[0mnumpy\u001b[0m\u001b[1;33m.\u001b[0m\u001b[0marray\u001b[0m\u001b[1;33m(\u001b[0m\u001b[1;33m[\u001b[0m\u001b[0mv\u001b[0m\u001b[1;33m[\u001b[0m\u001b[1;36m1\u001b[0m\u001b[1;33m]\u001b[0m\u001b[1;33m,\u001b[0m\u001b[0mv\u001b[0m\u001b[1;33m[\u001b[0m\u001b[1;36m3\u001b[0m\u001b[1;33m]\u001b[0m\u001b[1;33m,\u001b[0m\u001b[0mvi\u001b[0m\u001b[1;33m[\u001b[0m\u001b[1;36m4\u001b[0m\u001b[1;33m]\u001b[0m\u001b[1;33m]\u001b[0m\u001b[1;33m)\u001b[0m\u001b[1;33m\u001b[0m\u001b[1;33m\u001b[0m\u001b[0m\n\u001b[0;32m     18\u001b[0m     \u001b[0mt3\u001b[0m\u001b[1;33m=\u001b[0m\u001b[0mnumpy\u001b[0m\u001b[1;33m.\u001b[0m\u001b[0marray\u001b[0m\u001b[1;33m(\u001b[0m\u001b[1;33m[\u001b[0m\u001b[0mv\u001b[0m\u001b[1;33m[\u001b[0m\u001b[1;36m2\u001b[0m\u001b[1;33m]\u001b[0m\u001b[1;33m,\u001b[0m\u001b[0mv\u001b[0m\u001b[1;33m[\u001b[0m\u001b[1;36m4\u001b[0m\u001b[1;33m]\u001b[0m\u001b[1;33m,\u001b[0m\u001b[0mvi\u001b[0m\u001b[1;33m[\u001b[0m\u001b[1;36m0\u001b[0m\u001b[1;33m]\u001b[0m\u001b[1;33m]\u001b[0m\u001b[1;33m)\u001b[0m\u001b[1;33m\u001b[0m\u001b[1;33m\u001b[0m\u001b[0m\n",
      "\u001b[1;31mIndexError\u001b[0m: list index out of range"
     ]
    }
   ],
   "source": [
    "'''\n",
    "# To view Image\n",
    "#Inner Star Of the Circle.....\n",
    "#def star():\n",
    "R1 = 120\n",
    "R2 = 40\n",
    "v=[]\n",
    "vi=[]\n",
    "for n in range(0,5):\n",
    "    x1 = R1*math.cos(math.radians(90+n*72))\n",
    "    y1 = R1*math.sin(math.radians(90+n*72))\n",
    "    x2 = R2*math.cos(math.radians(126+n*72))\n",
    "    y2 = R2*math.sin(math.radians(126+n*72))\n",
    "    vi.append([int(y2)+360,int(x2)+360])\n",
    "    v.append([int(y1)+360,int(x1)+360])\n",
    "    \n",
    "    t1=numpy.array([v[2],v[0],vi[3]])\n",
    "    t2=numpy.array([v[1],v[3],vi[4]])\n",
    "    t3=numpy.array([v[2],v[4],vi[0]])\n",
    "    \n",
    "    cn=cv2.fillPoly(cn,pts=[numpy.array(t1)], color=[255,255,255])\n",
    "    cn=cv2.fillPoly(cn,pts=[numpy.array(t2)], color=[255,255,255])\n",
    "    cn=cv2.fillPoly(cn,pts=[numpy.array(t3)], color=[255,255,255])\n",
    "'''\n"
   ]
  },
  {
   "cell_type": "code",
   "execution_count": null,
   "metadata": {},
   "outputs": [],
   "source": [
    "# Outer Ring's for the Shield....\n",
    "#def Shield_outer():\n",
    "for i in range(0,120):\n",
    "    cn=cv2.circle(cn,(360,360),i,[255,0,0])\n",
    "for j in range(120,200):\n",
    "    cn=cv2.circle(cn,(360,360),j,[0,0,206])\n",
    "for k in range(280,360):\n",
    "    cn=cv2.circle(cn,(360,360),k,[0,0,206])\n",
    "cn= cv2.line(cn, (246,397),(474,397),[0,255,0], 2)\n",
    "cn= cv2.line(cn, (246,397),(430,263),[0,255,0], 2)\n",
    "cn= cv2.line(cn, (290,263),(474,397),[0,255,0], 2)\n",
    "cn= cv2.line(cn, (290,263),(360,480),[0,255,0], 2)\n",
    "cn= cv2.line(cn, (360,480),(430,263),[0,255,0], 2)\n",
    "cn= cv2.line(cn, (360,480),(290,263),[0,255,0], 1)"
   ]
  },
  {
   "cell_type": "code",
   "execution_count": null,
   "metadata": {},
   "outputs": [],
   "source": [
    "cv2.imshow(\"captainAmerica\",cn)\n",
    "if cv2.waitKey()==13:\n",
    "    cv2.destroyAllWindows()"
   ]
  },
  {
   "cell_type": "code",
   "execution_count": null,
   "metadata": {},
   "outputs": [],
   "source": []
  },
  {
   "cell_type": "code",
   "execution_count": null,
   "metadata": {},
   "outputs": [],
   "source": [
    "v"
   ]
  },
  {
   "cell_type": "code",
   "execution_count": null,
   "metadata": {},
   "outputs": [],
   "source": [
    "cv2.imshow(\"captainAmerica\",cn)\n",
    "if cv2.waitKey()==13:\n",
    "    cv2.destroyAllWindows()"
   ]
  },
  {
   "cell_type": "code",
   "execution_count": null,
   "metadata": {},
   "outputs": [],
   "source": [
    "\"\"\"\n",
    "import math\n",
    "v=[]\n",
    "r=120\n",
    "for i in range(1,6):\n",
    "    x=r*math.cos(math.radians(90+72*i))\n",
    "    y=r*math.sin(math.radians(90+72*i))\n",
    "    x=360+int(x)\n",
    "    y=360+int(y)\n",
    "    v.append((x,y))\n",
    "print(v)\n",
    "\"\"\" "
   ]
  },
  {
   "cell_type": "code",
   "execution_count": null,
   "metadata": {},
   "outputs": [],
   "source": [
    "\"\"\"\n",
    "c1= cv2.line(c1, 246, 397, [0,255,0], 3)\n",
    "c1= cv2.line(c1, 290, 263, [0,255,0], 3)\n",
    "c1= cv2.line(c1, 430, 263, [0,255,0], 3)\n",
    "c1= cv2.line(c1, 474, 397, [0,255,0], 3)\n",
    "c1= cv2.line(c1, 360, 480, [0,255,0], 3)\n",
    "\"\"\""
   ]
  },
  {
   "cell_type": "code",
   "execution_count": null,
   "metadata": {},
   "outputs": [],
   "source": [
    "cv2.imshow(\"captainAmerica\",c1)\n",
    "if cv2.waitKey()==13:\n",
    "    cv2.destroyAllWindows()"
   ]
  },
  {
   "cell_type": "code",
   "execution_count": 4,
   "metadata": {},
   "outputs": [
    {
     "ename": "NameError",
     "evalue": "name 'cn' is not defined",
     "output_type": "error",
     "traceback": [
      "\u001b[1;31m---------------------------------------------------------------------------\u001b[0m",
      "\u001b[1;31mNameError\u001b[0m                                 Traceback (most recent call last)",
      "\u001b[1;32m<ipython-input-4-78f74d6d9a6b>\u001b[0m in \u001b[0;36m<module>\u001b[1;34m\u001b[0m\n\u001b[0;32m     29\u001b[0m     \u001b[1;32mreturn\u001b[0m\u001b[1;33m(\u001b[0m\u001b[0mcn\u001b[0m\u001b[1;33m)\u001b[0m\u001b[1;33m\u001b[0m\u001b[1;33m\u001b[0m\u001b[0m\n\u001b[0;32m     30\u001b[0m \u001b[1;31m# view\u001b[0m\u001b[1;33m\u001b[0m\u001b[1;33m\u001b[0m\u001b[1;33m\u001b[0m\u001b[0m\n\u001b[1;32m---> 31\u001b[1;33m \u001b[0mcn\u001b[0m\u001b[1;33m=\u001b[0m\u001b[0mouter\u001b[0m\u001b[1;33m(\u001b[0m\u001b[0mcn\u001b[0m\u001b[1;33m)\u001b[0m\u001b[1;33m\u001b[0m\u001b[1;33m\u001b[0m\u001b[0m\n\u001b[0m\u001b[0;32m     32\u001b[0m \u001b[0ma\u001b[0m\u001b[1;33m=\u001b[0m\u001b[0mstar\u001b[0m\u001b[1;33m(\u001b[0m\u001b[0mcn\u001b[0m\u001b[1;33m)\u001b[0m\u001b[1;33m\u001b[0m\u001b[1;33m\u001b[0m\u001b[0m\n\u001b[0;32m     33\u001b[0m \u001b[0mcv2\u001b[0m\u001b[1;33m.\u001b[0m\u001b[0mimshow\u001b[0m\u001b[1;33m(\u001b[0m\u001b[1;34m\"Animation\"\u001b[0m\u001b[1;33m,\u001b[0m\u001b[0ma\u001b[0m\u001b[1;33m)\u001b[0m\u001b[1;33m\u001b[0m\u001b[1;33m\u001b[0m\u001b[0m\n",
      "\u001b[1;31mNameError\u001b[0m: name 'cn' is not defined"
     ]
    }
   ],
   "source": [
    "def outer(cn):\n",
    "    cn=numpy.ones((720,720,3))\n",
    "    for x in range(280,360):\n",
    "        cn=cv2.circle(cn , (360,360), x, [0,0,255] )\n",
    "    for x in range(120,200):\n",
    "        cn=cv2.circle(cn , (360,360), x, [0,0,255] )\n",
    "    cn=cv2.circle(cn , (360,360), 120 , [255,0,0] ,-1)\n",
    "    return(cn)\n",
    "def star(cn):\n",
    "    R1 = 120\n",
    "    R2 = 40\n",
    "    v=[]\n",
    "    vi=[]\n",
    "    for n in range(0,5):\n",
    "        x1 = R1*math.cos(math.radians(90+n*72))\n",
    "        y1 = R1*math.sin(math.radians(90+n*72))\n",
    "        x2 = R2*math.cos(math.radians(126+n*72))\n",
    "        y2 = R2*math.sin(math.radians(126+n*72))\n",
    "        vi.append([int(x2)+360,int(y2)+360])\n",
    "        v.append([int(x1)+360,int(y1)+360])\n",
    "    \n",
    "    t1=numpy.array([v[2],v[0],vi[3]])\n",
    "    t2=numpy.array([v[1],v[3],vi[4]])\n",
    "    t3=numpy.array([v[2],v[4],vi[0]])\n",
    "\n",
    "    cn=cv2.fillPoly(cn,pts=[numpy.array(t1)], color=[255,255,255])\n",
    "    cn=cv2.fillPoly(cn,pts=[numpy.array(t2)], color=[255,255,255])\n",
    "    cn=cv2.fillPoly(cn,pts=[numpy.array(t3)], color=[255,255,255])\n",
    "    return(cn)\n",
    "# view\n",
    "cn=outer(cn)\n",
    "a=star(cn)\n",
    "cv2.imshow(\"Animation\",a)\n",
    "if cv2.waitKey()==13:\n",
    "    cv2.destroyAllWindows()"
   ]
  },
  {
   "cell_type": "code",
   "execution_count": null,
   "metadata": {},
   "outputs": [],
   "source": []
  },
  {
   "cell_type": "code",
   "execution_count": null,
   "metadata": {},
   "outputs": [],
   "source": []
  },
  {
   "cell_type": "code",
   "execution_count": null,
   "metadata": {},
   "outputs": [],
   "source": []
  },
  {
   "cell_type": "code",
   "execution_count": 1,
   "metadata": {},
   "outputs": [],
   "source": [
    "import cv2\n",
    "import numpy\n",
    "import math"
   ]
  },
  {
   "cell_type": "code",
   "execution_count": 2,
   "metadata": {},
   "outputs": [],
   "source": [
    "cn=numpy.ones((720,720,3))"
   ]
  },
  {
   "cell_type": "code",
   "execution_count": null,
   "metadata": {},
   "outputs": [],
   "source": [
    "def outer(cn):\n",
    "    cn=numpy.ones((720,720,3))\n",
    "    for x in range(280,360):\n",
    "        cn=cv2.circle(cn , (360,360), x, [0,0,255] )\n",
    "    for x in range(120,200):\n",
    "        cn=cv2.circle(cn , (360,360), x, [0,0,255] )\n",
    "    cn=cv2.circle(cn , (360,360), 120 , [255,0,0] ,-1)\n",
    "    return(cn)\n",
    "def star(cn):\n",
    "    R1 = 120\n",
    "    R2 = 40\n",
    "    v=[]\n",
    "    vi=[]\n",
    "    for n in range(0,5):\n",
    "        x1 = R1*math.cos(math.radians(90+n*72))\n",
    "        y1 = R1*math.sin(math.radians(90+n*72))\n",
    "        x2 = R2*math.cos(math.radians(126+n*72))\n",
    "        y2 = R2*math.sin(math.radians(126+n*72))\n",
    "        vi.append([int(x2)+360,int(y2)+360])\n",
    "        v.append([int(x1)+360,int(y1)+360])\n",
    "    \n",
    "    t1=numpy.array([v[2],v[0],vi[3]])\n",
    "    t2=numpy.array([v[1],v[3],vi[4]])\n",
    "    t3=numpy.array([v[2],v[4],vi[0]])\n",
    "\n",
    "    cn=cv2.fillPoly(cn,pts=[numpy.array(t1)], color=[255,255,255])\n",
    "    cn=cv2.fillPoly(cn,pts=[numpy.array(t2)], color=[255,255,255])\n",
    "    cn=cv2.fillPoly(cn,pts=[numpy.array(t3)], color=[255,255,255])\n",
    "    return(cn)\n",
    "# view\n",
    "cn=outer(cn)\n",
    "a=star(cn)\n",
    "cv2.imshow(\"Animation\",a)\n",
    "if cv2.waitKey()==13:\n",
    "    cv2.destroyAllWindows()"
   ]
  },
  {
   "cell_type": "code",
   "execution_count": null,
   "metadata": {},
   "outputs": [],
   "source": []
  }
 ],
 "metadata": {
  "kernelspec": {
   "display_name": "Python 3",
   "language": "python",
   "name": "python3"
  },
  "language_info": {
   "codemirror_mode": {
    "name": "ipython",
    "version": 3
   },
   "file_extension": ".py",
   "mimetype": "text/x-python",
   "name": "python",
   "nbconvert_exporter": "python",
   "pygments_lexer": "ipython3",
   "version": "3.8.5"
  }
 },
 "nbformat": 4,
 "nbformat_minor": 4
}
